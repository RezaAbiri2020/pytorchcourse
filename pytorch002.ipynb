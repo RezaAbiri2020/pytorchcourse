{
 "cells": [
  {
   "cell_type": "code",
   "execution_count": 1,
   "metadata": {},
   "outputs": [],
   "source": [
    "import torch"
   ]
  },
  {
   "cell_type": "code",
   "execution_count": 2,
   "metadata": {},
   "outputs": [],
   "source": [
    "import numpy"
   ]
  },
  {
   "cell_type": "code",
   "execution_count": 3,
   "metadata": {},
   "outputs": [],
   "source": [
    "import matplotlib.pyplot as plt\n",
    "%matplotlib inline\n"
   ]
  },
  {
   "cell_type": "code",
   "execution_count": 4,
   "metadata": {},
   "outputs": [],
   "source": [
    "import torch.nn as nn"
   ]
  },
  {
   "cell_type": "code",
   "execution_count": 6,
   "metadata": {},
   "outputs": [],
   "source": [
    "x =torch.linspace(1,50,50).reshape(-1,1)"
   ]
  },
  {
   "cell_type": "code",
   "execution_count": 8,
   "metadata": {},
   "outputs": [],
   "source": [
    "torch.manual_seed(71)\n",
    "e = torch.randint(-8,9,(50,1),dtype=torch.float)"
   ]
  },
  {
   "cell_type": "code",
   "execution_count": 9,
   "metadata": {},
   "outputs": [],
   "source": [
    "y = 2*x + e"
   ]
  },
  {
   "cell_type": "code",
   "execution_count": 10,
   "metadata": {},
   "outputs": [
    {
     "data": {
      "text/plain": [
       "<matplotlib.collections.PathCollection at 0x7f07c77842e8>"
      ]
     },
     "execution_count": 10,
     "metadata": {},
     "output_type": "execute_result"
    },
    {
     "data": {
      "image/png": "[encoded data removed]",
      "text/plain": [
       "<Figure size 432x288 with 1 Axes>"
      ]
     },
     "metadata": {
      "needs_background": "light"
     },
     "output_type": "display_data"
    }
   ],
   "source": [
    "plt.scatter(x.numpy(),y.numpy())"
   ]
  },
  {
   "cell_type": "code",
   "execution_count": 11,
   "metadata": {},
   "outputs": [
    {
     "name": "stdout",
     "output_type": "stream",
     "text": [
      "Parameter containing:\n",
      "tensor([[0.1060]], requires_grad=True)\n",
      "Parameter containing:\n",
      "tensor([0.9638], requires_grad=True)\n"
     ]
    }
   ],
   "source": [
    "torch.manual_seed(59)\n",
    "model = nn.Linear(in_features=1,out_features=1)\n",
    "\n",
    "print(model.weight)\n",
    "print(model.bias)"
   ]
  },
  {
   "cell_type": "code",
   "execution_count": 21,
   "metadata": {},
   "outputs": [],
   "source": [
    "class Model(nn.Module):\n",
    "    \n",
    "    def __init__(self,in_features,out_features):\n",
    "        \n",
    "        super().__init__()\n",
    "        self.linear = nn.Linear(in_features,out_features)\n",
    "        \n",
    "    def forward(self,x):\n",
    "        y_pred = self.linear(x)\n",
    "        return y_pred\n"
   ]
  },
  {
   "cell_type": "code",
   "execution_count": 23,
   "metadata": {},
   "outputs": [
    {
     "name": "stdout",
     "output_type": "stream",
     "text": [
      "Parameter containing:\n",
      "tensor([[0.1060]], requires_grad=True)\n",
      "Parameter containing:\n",
      "tensor([0.9638], requires_grad=True)\n"
     ]
    }
   ],
   "source": [
    "torch.manual_seed(59)\n",
    "model = Model(1,1)\n",
    "print(model.linear.weight)\n",
    "print(model.linear.bias)"
   ]
  },
  {
   "cell_type": "code",
   "execution_count": 24,
   "metadata": {},
   "outputs": [
    {
     "name": "stdout",
     "output_type": "stream",
     "text": [
      "linear.weight \t 0.10597813129425049\n",
      "linear.bias \t 0.9637961387634277\n"
     ]
    }
   ],
   "source": [
    "for name, param in model.named_parameters():\n",
    "    print (name,'\\t',param.item())"
   ]
  },
  {
   "cell_type": "code",
   "execution_count": 26,
   "metadata": {},
   "outputs": [
    {
     "name": "stdout",
     "output_type": "stream",
     "text": [
      "tensor([1.1758], grad_fn=<AddBackward0>)\n"
     ]
    }
   ],
   "source": [
    "x = torch.tensor([2.0])\n",
    "print(model.forward(x))"
   ]
  },
  {
   "cell_type": "code",
   "execution_count": 27,
   "metadata": {},
   "outputs": [],
   "source": [
    "x1 =torch.linspace(1,50,50).reshape(-1,1)"
   ]
  },
  {
   "cell_type": "code",
   "execution_count": 28,
   "metadata": {},
   "outputs": [],
   "source": [
    "criterion = nn.MSELoss()"
   ]
  },
  {
   "cell_type": "code",
   "execution_count": 33,
   "metadata": {},
   "outputs": [],
   "source": [
    "optimizer = torch.optim.SGD(model.parameters(),lr=0.0001)"
   ]
  },
  {
   "cell_type": "code",
   "execution_count": 34,
   "metadata": {},
   "outputs": [
    {
     "name": "stdout",
     "output_type": "stream",
     "text": [
      "epoch:1\n",
      "2317.91162109375\n",
      "0.296599805355072\n",
      "1.7846211194992065\n",
      "epoch:2\n",
      "2431.940673828125\n",
      "0.2565026879310608\n",
      "1.7843215465545654\n",
      "epoch:3\n",
      "1771.3131103515625\n",
      "0.5041679739952087\n",
      "1.792556881904602\n",
      "epoch:4\n",
      "770.6376342773438\n",
      "0.9970296025276184\n",
      "1.8080624341964722\n",
      "epoch:5\n",
      "88.23217010498047\n",
      "1.6503840684890747\n",
      "1.8283215761184692\n",
      "epoch:6\n",
      "173.03286743164062\n",
      "2.351947069168091\n",
      "1.849998116493225\n",
      "epoch:7\n",
      "969.2516479492188\n",
      "2.981149911880493\n",
      "1.8695096969604492\n",
      "epoch:8\n",
      "1953.077392578125\n",
      "3.429858684539795\n",
      "1.8836435079574585\n",
      "epoch:9\n",
      "2477.278564453125\n",
      "3.6209583282470703\n",
      "1.890108346939087\n",
      "epoch:10\n",
      "2196.996337890625\n",
      "3.52160382270813\n",
      "1.8879282474517822\n",
      "epoch:11\n",
      "1296.621337890625\n",
      "3.1488654613494873\n",
      "1.8776103258132935\n",
      "epoch:12\n",
      "368.4864501953125\n",
      "2.5667951107025146\n",
      "1.8610577583312988\n",
      "epoch:13\n",
      "23.186365127563477\n",
      "1.875418782234192\n",
      "1.8412423133850098\n",
      "epoch:14\n",
      "487.8849182128906\n",
      "1.1935466527938843\n",
      "1.821694016456604\n",
      "epoch:15\n",
      "1456.8692626953125\n",
      "0.6383559703826904\n",
      "1.8058942556381226\n",
      "epoch:16\n",
      "2292.6708984375\n",
      "0.3052534759044647\n",
      "1.7966777086257935\n",
      "epoch:17\n",
      "2445.4384765625\n",
      "0.2514798641204834\n",
      "1.7957450151443481\n",
      "epoch:18\n",
      "1814.6700439453125\n",
      "0.4862728714942932\n",
      "1.8033705949783325\n",
      "epoch:19\n",
      "815.331787109375\n",
      "0.9692795872688293\n",
      "1.8183555603027344\n",
      "epoch:20\n",
      "104.86111450195312\n",
      "1.617491364479065\n",
      "1.838233470916748\n",
      "epoch:21\n",
      "150.6579132080078\n",
      "2.3195090293884277\n",
      "1.8596946001052856\n",
      "epoch:22\n",
      "922.5935668945312\n",
      "2.954686403274536\n",
      "1.8791542053222656\n",
      "epoch:23\n",
      "1912.8331298828125\n",
      "3.4138646125793457\n",
      "1.8933690786361694\n",
      "epoch:24\n",
      "2469.923583984375\n",
      "3.6181299686431885\n",
      "1.8999946117401123\n",
      "epoch:25\n",
      "2227.371337890625\n",
      "3.532376527786255\n",
      "1.897987723350525\n",
      "epoch:26\n",
      "1344.744140625\n",
      "3.1713383197784424\n",
      "1.8877860307693481\n",
      "epoch:27\n",
      "402.6990966796875\n",
      "2.597057580947876\n",
      "1.8712329864501953\n",
      "epoch:28\n",
      "20.982519149780273\n",
      "1.9082227945327759\n",
      "1.8512606620788574\n",
      "epoch:29\n",
      "450.71539306640625\n",
      "1.2232086658477783\n",
      "1.8313862085342407\n",
      "epoch:30\n",
      "1409.1881103515625\n",
      "0.6597335934638977\n",
      "1.8151071071624756\n",
      "epoch:31\n",
      "2265.84716796875\n",
      "0.3146291971206665\n",
      "1.8053003549575806\n",
      "epoch:32\n",
      "2457.11962890625\n",
      "0.2471999078989029\n",
      "1.8037278652191162\n",
      "epoch:33\n",
      "1857.1728515625\n",
      "0.46903133392333984\n",
      "1.8107339143753052\n",
      "epoch:34\n",
      "860.6954345703125\n",
      "0.9419993162155151\n",
      "1.825185775756836\n",
      "epoch:35\n",
      "123.2431640625\n",
      "1.5848214626312256\n",
      "1.8446683883666992\n",
      "epoch:36\n",
      "129.96592712402344\n",
      "2.2870259284973145\n",
      "1.8658995628356934\n",
      "epoch:37\n",
      "876.4412841796875\n",
      "2.92793607711792\n",
      "1.88529372215271\n",
      "epoch:38\n",
      "1871.5836181640625\n",
      "3.3974087238311768\n",
      "1.899578332901001\n",
      "epoch:39\n",
      "2460.714599609375\n",
      "3.614762306213379\n",
      "1.9063562154769897\n",
      "epoch:40\n",
      "2256.261474609375\n",
      "3.542642831802368\n",
      "1.9045175313949585\n",
      "epoch:41\n",
      "1392.728759765625\n",
      "3.1934425830841064\n",
      "1.8944305181503296\n",
      "epoch:42\n",
      "438.210693359375\n",
      "2.6271705627441406\n",
      "1.8778780698776245\n",
      "epoch:43\n",
      "20.659664154052734\n",
      "1.9411402940750122\n",
      "1.857751488685608\n",
      "epoch:44\n",
      "414.7709655761719\n",
      "1.2532457113265991\n",
      "1.8375535011291504\n",
      "epoch:45\n",
      "1361.26953125\n",
      "0.6817013025283813\n",
      "1.8207964897155762\n",
      "epoch:46\n",
      "2237.4794921875\n",
      "0.3247266709804535\n",
      "1.8103985786437988\n",
      "epoch:47\n",
      "2466.9658203125\n",
      "0.24366742372512817\n",
      "1.8081824779510498\n",
      "epoch:48\n",
      "1898.755615234375\n",
      "0.45245271921157837\n",
      "1.8145620822906494\n",
      "epoch:49\n",
      "906.6593017578125\n",
      "0.9152015447616577\n",
      "1.8284711837768555\n",
      "epoch:50\n",
      "143.3502197265625\n",
      "1.5523890256881714\n",
      "1.847547173500061\n"
     ]
    }
   ],
   "source": [
    "epochs = 50\n",
    "losses = []\n",
    "\n",
    "for i in range(epochs):\n",
    "    i = i+1\n",
    "    y_pred = model.forward(x1)\n",
    "    loss = criterion(y_pred,y)\n",
    "    losses.append(loss)\n",
    "    print ('epoch:'+str(i))\n",
    "    print(loss.item())\n",
    "    print(model.linear.weight.item())\n",
    "    print(model.linear.bias.item())\n",
    "    \n",
    "    optimizer.zero_grad\n",
    "    \n",
    "    loss.backward()\n",
    "    optimizer.step()\n",
    "    "
   ]
  },
  {
   "cell_type": "code",
   "execution_count": 35,
   "metadata": {},
   "outputs": [],
   "source": [
    "import pandas as pd"
   ]
  },
  {
   "cell_type": "code",
   "execution_count": 36,
   "metadata": {},
   "outputs": [],
   "source": [
    "df = pd.read_csv('/media/reza/ResearchDrive/Courses/Course_PyTorch/PYTORCH_NOTEBOOKS/Data/iris.csv')"
   ]
  },
  {
   "cell_type": "code",
   "execution_count": 39,
   "metadata": {},
   "outputs": [
    {
     "data": {
      "text/html": [
       "<div>\n",
       "<style scoped>\n",
       "    .dataframe tbody tr th:only-of-type {\n",
       "        vertical-align: middle;\n",
       "    }\n",
       "\n",
       "    .dataframe tbody tr th {\n",
       "        vertical-align: top;\n",
       "    }\n",
       "\n",
       "    .dataframe thead th {\n",
       "        text-align: right;\n",
       "    }\n",
       "</style>\n",
       "<table border=\"1\" class=\"dataframe\">\n",
       "  <thead>\n",
       "    <tr style=\"text-align: right;\">\n",
       "      <th></th>\n",
       "      <th>sepal length (cm)</th>\n",
       "      <th>sepal width (cm)</th>\n",
       "      <th>petal length (cm)</th>\n",
       "      <th>petal width (cm)</th>\n",
       "      <th>target</th>\n",
       "    </tr>\n",
       "  </thead>\n",
       "  <tbody>\n",
       "    <tr>\n",
       "      <th>0</th>\n",
       "      <td>5.1</td>\n",
       "      <td>3.5</td>\n",
       "      <td>1.4</td>\n",
       "      <td>0.2</td>\n",
       "      <td>0.0</td>\n",
       "    </tr>\n",
       "    <tr>\n",
       "      <th>1</th>\n",
       "      <td>4.9</td>\n",
       "      <td>3.0</td>\n",
       "      <td>1.4</td>\n",
       "      <td>0.2</td>\n",
       "      <td>0.0</td>\n",
       "    </tr>\n",
       "    <tr>\n",
       "      <th>2</th>\n",
       "      <td>4.7</td>\n",
       "      <td>3.2</td>\n",
       "      <td>1.3</td>\n",
       "      <td>0.2</td>\n",
       "      <td>0.0</td>\n",
       "    </tr>\n",
       "    <tr>\n",
       "      <th>3</th>\n",
       "      <td>4.6</td>\n",
       "      <td>3.1</td>\n",
       "      <td>1.5</td>\n",
       "      <td>0.2</td>\n",
       "      <td>0.0</td>\n",
       "    </tr>\n",
       "    <tr>\n",
       "      <th>4</th>\n",
       "      <td>5.0</td>\n",
       "      <td>3.6</td>\n",
       "      <td>1.4</td>\n",
       "      <td>0.2</td>\n",
       "      <td>0.0</td>\n",
       "    </tr>\n",
       "  </tbody>\n",
       "</table>\n",
       "</div>"
      ],
      "text/plain": [
       "   sepal length (cm)  sepal width (cm)  petal length (cm)  petal width (cm)  \\\n",
       "0                5.1               3.5                1.4               0.2   \n",
       "1                4.9               3.0                1.4               0.2   \n",
       "2                4.7               3.2                1.3               0.2   \n",
       "3                4.6               3.1                1.5               0.2   \n",
       "4                5.0               3.6                1.4               0.2   \n",
       "\n",
       "   target  \n",
       "0     0.0  \n",
       "1     0.0  \n",
       "2     0.0  \n",
       "3     0.0  \n",
       "4     0.0  "
      ]
     },
     "execution_count": 39,
     "metadata": {},
     "output_type": "execute_result"
    }
   ],
   "source": [
    "df.head()"
   ]
  },
  {
   "cell_type": "code",
   "execution_count": 40,
   "metadata": {},
   "outputs": [
    {
     "data": {
      "text/plain": [
       "(150, 5)"
      ]
     },
     "execution_count": 40,
     "metadata": {},
     "output_type": "execute_result"
    }
   ],
   "source": [
    "df.shape"
   ]
  },
  {
   "cell_type": "code",
   "execution_count": 41,
   "metadata": {},
   "outputs": [],
   "source": [
    "features = df.drop('target',axis=1).values"
   ]
  },
  {
   "cell_type": "code",
   "execution_count": 42,
   "metadata": {},
   "outputs": [],
   "source": [
    "label = df['target'].values"
   ]
  },
  {
   "cell_type": "code",
   "execution_count": 43,
   "metadata": {},
   "outputs": [],
   "source": [
    "from sklearn.model_selection import train_test_split"
   ]
  },
  {
   "cell_type": "code",
   "execution_count": 44,
   "metadata": {},
   "outputs": [],
   "source": [
    "X_train, X_test, y_train, y_test = train_test_split(features, label, test_size=0.2, random_state=33)"
   ]
  },
  {
   "cell_type": "code",
   "execution_count": 47,
   "metadata": {},
   "outputs": [],
   "source": [
    "X_train = torch.Tensor(X_train)\n",
    "X_test = torch.Tensor(X_test)"
   ]
  },
  {
   "cell_type": "code",
   "execution_count": 48,
   "metadata": {},
   "outputs": [],
   "source": [
    "y_train = torch.LongTensor(y_train).reshape(-1,1)"
   ]
  },
  {
   "cell_type": "code",
   "execution_count": 49,
   "metadata": {},
   "outputs": [],
   "source": [
    "y_test = torch.LongTensor(y_test).reshape(-1,1)"
   ]
  },
  {
   "cell_type": "code",
   "execution_count": 50,
   "metadata": {},
   "outputs": [],
   "source": [
    "from torch.utils.data import TensorDataset, DataLoader"
   ]
  },
  {
   "cell_type": "code",
   "execution_count": 51,
   "metadata": {},
   "outputs": [],
   "source": [
    "data =  df.drop('target',axis=1).values\n",
    "labels = df['target'].values"
   ]
  },
  {
   "cell_type": "code",
   "execution_count": 53,
   "metadata": {},
   "outputs": [],
   "source": [
    "iris = TensorDataset(torch.FloatTensor(data), torch.LongTensor(labels))"
   ]
  },
  {
   "cell_type": "code",
   "execution_count": 55,
   "metadata": {},
   "outputs": [],
   "source": [
    "iris_loader = DataLoader(iris,batch_size=50, shuffle=True)"
   ]
  },
  {
   "cell_type": "code",
   "execution_count": 56,
   "metadata": {},
   "outputs": [
    {
     "name": "stdout",
     "output_type": "stream",
     "text": [
      "[tensor([[5.5000, 4.2000, 1.4000, 0.2000],\n",
      "        [6.3000, 2.5000, 4.9000, 1.5000],\n",
      "        [5.7000, 3.0000, 4.2000, 1.2000],\n",
      "        [4.6000, 3.1000, 1.5000, 0.2000],\n",
      "        [5.0000, 3.6000, 1.4000, 0.2000],\n",
      "        [5.7000, 2.8000, 4.5000, 1.3000],\n",
      "        [6.4000, 3.1000, 5.5000, 1.8000],\n",
      "        [7.3000, 2.9000, 6.3000, 1.8000],\n",
      "        [6.0000, 3.4000, 4.5000, 1.6000],\n",
      "        [4.9000, 2.5000, 4.5000, 1.7000],\n",
      "        [6.1000, 3.0000, 4.6000, 1.4000],\n",
      "        [5.0000, 3.4000, 1.5000, 0.2000],\n",
      "        [5.7000, 2.6000, 3.5000, 1.0000],\n",
      "        [7.7000, 2.6000, 6.9000, 2.3000],\n",
      "        [4.6000, 3.2000, 1.4000, 0.2000],\n",
      "        [4.9000, 3.1000, 1.5000, 0.1000],\n",
      "        [6.6000, 3.0000, 4.4000, 1.4000],\n",
      "        [5.2000, 2.7000, 3.9000, 1.4000],\n",
      "        [6.5000, 3.0000, 5.5000, 1.8000],\n",
      "        [6.5000, 2.8000, 4.6000, 1.5000],\n",
      "        [7.2000, 3.0000, 5.8000, 1.6000],\n",
      "        [5.8000, 2.7000, 4.1000, 1.0000],\n",
      "        [6.8000, 3.0000, 5.5000, 2.1000],\n",
      "        [5.6000, 2.5000, 3.9000, 1.1000],\n",
      "        [6.4000, 2.8000, 5.6000, 2.1000],\n",
      "        [5.4000, 3.7000, 1.5000, 0.2000],\n",
      "        [4.8000, 3.4000, 1.6000, 0.2000],\n",
      "        [4.6000, 3.6000, 1.0000, 0.2000],\n",
      "        [6.2000, 2.2000, 4.5000, 1.5000],\n",
      "        [6.3000, 2.8000, 5.1000, 1.5000],\n",
      "        [4.7000, 3.2000, 1.3000, 0.2000],\n",
      "        [5.1000, 3.3000, 1.7000, 0.5000],\n",
      "        [5.8000, 2.8000, 5.1000, 2.4000],\n",
      "        [6.2000, 2.8000, 4.8000, 1.8000],\n",
      "        [5.5000, 2.6000, 4.4000, 1.2000],\n",
      "        [5.4000, 3.0000, 4.5000, 1.5000],\n",
      "        [5.7000, 2.5000, 5.0000, 2.0000],\n",
      "        [4.9000, 3.1000, 1.5000, 0.1000],\n",
      "        [6.1000, 2.8000, 4.7000, 1.2000],\n",
      "        [5.1000, 3.5000, 1.4000, 0.2000],\n",
      "        [4.7000, 3.2000, 1.6000, 0.2000],\n",
      "        [5.8000, 2.7000, 3.9000, 1.2000],\n",
      "        [5.9000, 3.2000, 4.8000, 1.8000],\n",
      "        [5.2000, 3.5000, 1.5000, 0.2000],\n",
      "        [5.1000, 3.5000, 1.4000, 0.3000],\n",
      "        [6.0000, 2.2000, 4.0000, 1.0000],\n",
      "        [5.6000, 2.9000, 3.6000, 1.3000],\n",
      "        [5.0000, 3.5000, 1.6000, 0.6000],\n",
      "        [6.3000, 2.7000, 4.9000, 1.8000],\n",
      "        [5.0000, 3.0000, 1.6000, 0.2000]]), tensor([0, 1, 1, 0, 0, 1, 2, 2, 1, 2, 1, 0, 1, 2, 0, 0, 1, 1, 2, 1, 2, 1, 2, 1,\n",
      "        2, 0, 0, 0, 1, 2, 0, 0, 2, 2, 1, 1, 2, 0, 1, 0, 0, 1, 1, 0, 0, 1, 1, 0,\n",
      "        2, 0])]\n",
      "[tensor([[5.6000, 3.0000, 4.5000, 1.5000],\n",
      "        [4.8000, 3.0000, 1.4000, 0.3000],\n",
      "        [6.7000, 3.1000, 4.4000, 1.4000],\n",
      "        [5.0000, 2.0000, 3.5000, 1.0000],\n",
      "        [5.1000, 3.8000, 1.9000, 0.4000],\n",
      "        [6.7000, 3.1000, 4.7000, 1.5000],\n",
      "        [5.4000, 3.9000, 1.3000, 0.4000],\n",
      "        [5.6000, 2.8000, 4.9000, 2.0000],\n",
      "        [4.8000, 3.0000, 1.4000, 0.1000],\n",
      "        [4.8000, 3.1000, 1.6000, 0.2000],\n",
      "        [6.5000, 3.0000, 5.2000, 2.0000],\n",
      "        [5.4000, 3.4000, 1.7000, 0.2000],\n",
      "        [5.3000, 3.7000, 1.5000, 0.2000],\n",
      "        [6.0000, 2.9000, 4.5000, 1.5000],\n",
      "        [5.1000, 2.5000, 3.0000, 1.1000],\n",
      "        [5.4000, 3.4000, 1.5000, 0.4000],\n",
      "        [5.4000, 3.9000, 1.7000, 0.4000],\n",
      "        [6.0000, 3.0000, 4.8000, 1.8000],\n",
      "        [4.4000, 2.9000, 1.4000, 0.2000],\n",
      "        [6.3000, 2.9000, 5.6000, 1.8000],\n",
      "        [7.7000, 2.8000, 6.7000, 2.0000],\n",
      "        [5.7000, 4.4000, 1.5000, 0.4000],\n",
      "        [6.7000, 2.5000, 5.8000, 1.8000],\n",
      "        [5.5000, 2.4000, 3.7000, 1.0000],\n",
      "        [5.7000, 2.8000, 4.1000, 1.3000],\n",
      "        [4.6000, 3.4000, 1.4000, 0.3000],\n",
      "        [5.5000, 3.5000, 1.3000, 0.2000],\n",
      "        [7.7000, 3.0000, 6.1000, 2.3000],\n",
      "        [6.5000, 3.0000, 5.8000, 2.2000],\n",
      "        [7.2000, 3.6000, 6.1000, 2.5000],\n",
      "        [5.8000, 4.0000, 1.2000, 0.2000],\n",
      "        [5.8000, 2.7000, 5.1000, 1.9000],\n",
      "        [7.1000, 3.0000, 5.9000, 2.1000],\n",
      "        [4.9000, 3.0000, 1.4000, 0.2000],\n",
      "        [5.0000, 3.4000, 1.6000, 0.4000],\n",
      "        [6.3000, 2.5000, 5.0000, 1.9000],\n",
      "        [4.4000, 3.2000, 1.3000, 0.2000],\n",
      "        [6.1000, 2.9000, 4.7000, 1.4000],\n",
      "        [6.4000, 2.7000, 5.3000, 1.9000],\n",
      "        [6.4000, 2.9000, 4.3000, 1.3000],\n",
      "        [5.0000, 3.5000, 1.3000, 0.3000],\n",
      "        [5.8000, 2.6000, 4.0000, 1.2000],\n",
      "        [6.7000, 3.0000, 5.2000, 2.3000],\n",
      "        [5.1000, 3.7000, 1.5000, 0.4000],\n",
      "        [5.7000, 3.8000, 1.7000, 0.3000],\n",
      "        [5.0000, 2.3000, 3.3000, 1.0000],\n",
      "        [6.7000, 3.1000, 5.6000, 2.4000],\n",
      "        [6.2000, 3.4000, 5.4000, 2.3000],\n",
      "        [6.4000, 3.2000, 4.5000, 1.5000],\n",
      "        [7.0000, 3.2000, 4.7000, 1.4000]]), tensor([1, 0, 1, 1, 0, 1, 0, 2, 0, 0, 2, 0, 0, 1, 1, 0, 0, 2, 0, 2, 2, 0, 2, 1,\n",
      "        1, 0, 0, 2, 2, 2, 0, 2, 2, 0, 0, 2, 0, 1, 2, 1, 0, 1, 2, 0, 0, 1, 2, 2,\n",
      "        1, 1])]\n",
      "[tensor([[7.4000, 2.8000, 6.1000, 1.9000],\n",
      "        [6.9000, 3.1000, 4.9000, 1.5000],\n",
      "        [5.9000, 3.0000, 4.2000, 1.5000],\n",
      "        [4.8000, 3.4000, 1.9000, 0.2000],\n",
      "        [5.0000, 3.3000, 1.4000, 0.2000],\n",
      "        [6.7000, 3.3000, 5.7000, 2.5000],\n",
      "        [6.0000, 2.2000, 5.0000, 1.5000],\n",
      "        [7.6000, 3.0000, 6.6000, 2.1000],\n",
      "        [6.3000, 3.3000, 4.7000, 1.6000],\n",
      "        [4.9000, 3.1000, 1.5000, 0.1000],\n",
      "        [6.9000, 3.1000, 5.4000, 2.1000],\n",
      "        [6.7000, 3.3000, 5.7000, 2.1000],\n",
      "        [5.8000, 2.7000, 5.1000, 1.9000],\n",
      "        [6.6000, 2.9000, 4.6000, 1.3000],\n",
      "        [5.2000, 4.1000, 1.5000, 0.1000],\n",
      "        [7.2000, 3.2000, 6.0000, 1.8000],\n",
      "        [6.1000, 3.0000, 4.9000, 1.8000],\n",
      "        [6.3000, 3.3000, 6.0000, 2.5000],\n",
      "        [7.9000, 3.8000, 6.4000, 2.0000],\n",
      "        [5.6000, 2.7000, 4.2000, 1.3000],\n",
      "        [6.4000, 2.8000, 5.6000, 2.2000],\n",
      "        [6.1000, 2.8000, 4.0000, 1.3000],\n",
      "        [5.5000, 2.4000, 3.8000, 1.1000],\n",
      "        [5.5000, 2.3000, 4.0000, 1.3000],\n",
      "        [6.3000, 2.3000, 4.4000, 1.3000],\n",
      "        [5.1000, 3.8000, 1.5000, 0.3000],\n",
      "        [6.3000, 3.4000, 5.6000, 2.4000],\n",
      "        [6.1000, 2.6000, 5.6000, 1.4000],\n",
      "        [6.9000, 3.1000, 5.1000, 2.3000],\n",
      "        [5.6000, 3.0000, 4.1000, 1.3000],\n",
      "        [5.1000, 3.8000, 1.6000, 0.2000],\n",
      "        [7.7000, 3.8000, 6.7000, 2.2000],\n",
      "        [4.9000, 2.4000, 3.3000, 1.0000],\n",
      "        [4.5000, 2.3000, 1.3000, 0.3000],\n",
      "        [5.0000, 3.2000, 1.2000, 0.2000],\n",
      "        [6.0000, 2.7000, 5.1000, 1.6000],\n",
      "        [6.8000, 2.8000, 4.8000, 1.4000],\n",
      "        [4.3000, 3.0000, 1.1000, 0.1000],\n",
      "        [5.5000, 2.5000, 4.0000, 1.3000],\n",
      "        [6.7000, 3.0000, 5.0000, 1.7000],\n",
      "        [5.7000, 2.9000, 4.2000, 1.3000],\n",
      "        [6.9000, 3.2000, 5.7000, 2.3000],\n",
      "        [6.8000, 3.2000, 5.9000, 2.3000],\n",
      "        [5.9000, 3.0000, 5.1000, 1.8000],\n",
      "        [6.5000, 3.2000, 5.1000, 2.0000],\n",
      "        [5.1000, 3.4000, 1.5000, 0.2000],\n",
      "        [4.4000, 3.0000, 1.3000, 0.2000],\n",
      "        [5.2000, 3.4000, 1.4000, 0.2000],\n",
      "        [6.2000, 2.9000, 4.3000, 1.3000],\n",
      "        [6.4000, 3.2000, 5.3000, 2.3000]]), tensor([2, 1, 1, 0, 0, 2, 2, 2, 1, 0, 2, 2, 2, 1, 0, 2, 2, 2, 2, 1, 2, 1, 1, 1,\n",
      "        1, 0, 2, 2, 2, 1, 0, 2, 1, 0, 0, 1, 1, 0, 1, 1, 1, 2, 2, 2, 2, 0, 0, 0,\n",
      "        1, 2])]\n"
     ]
    }
   ],
   "source": [
    "for batch in iris_loader:\n",
    "    print(batch)"
   ]
  },
  {
   "cell_type": "code",
   "execution_count": null,
   "metadata": {},
   "outputs": [],
   "source": []
  },
  {
   "cell_type": "code",
   "execution_count": null,
   "metadata": {},
   "outputs": [],
   "source": []
  },
  {
   "cell_type": "code",
   "execution_count": null,
   "metadata": {},
   "outputs": [],
   "source": []
  },
  {
   "cell_type": "code",
   "execution_count": null,
   "metadata": {},
   "outputs": [],
   "source": []
  }
 ],
 "metadata": {
  "kernelspec": {
   "display_name": "pytorchcourse",
   "language": "python",
   "name": "pytorchcourse"
  },
  "language_info": {
   "codemirror_mode": {
    "name": "ipython",
    "version": 3
   },
   "file_extension": ".py",
   "mimetype": "text/x-python",
   "name": "python",
   "nbconvert_exporter": "python",
   "pygments_lexer": "ipython3",
   "version": "3.7.3"
  }
 },
 "nbformat": 4,
 "nbformat_minor": 4
}
